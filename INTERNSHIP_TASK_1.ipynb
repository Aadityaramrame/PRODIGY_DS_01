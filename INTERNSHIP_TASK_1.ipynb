{
  "cells": [
    {
      "cell_type": "markdown",
      "metadata": {
        "id": "view-in-github",
        "colab_type": "text"
      },
      "source": [
        "<a href=\"https://colab.research.google.com/github/Aadityaramrame/PRODIGY_DS_01/blob/main/INTERNSHIP_TASK_1.ipynb\" target=\"_parent\"><img src=\"https://colab.research.google.com/assets/colab-badge.svg\" alt=\"Open In Colab\"/></a>"
      ]
    },
    {
      "cell_type": "code",
      "source": [
        "import pandas as pd\n",
        "import matplotlib.pyplot as plt"
      ],
      "metadata": {
        "id": "s2cAc6UPFk7g"
      },
      "execution_count": null,
      "outputs": []
    },
    {
      "cell_type": "code",
      "source": [
        "\n",
        "# Read data\n",
        "data = pd.read_csv(\"/content/bsc_stock.csv\")"
      ],
      "metadata": {
        "id": "2XEmdavtFoFC"
      },
      "execution_count": 10,
      "outputs": []
    },
    {
      "cell_type": "code",
      "source": [
        "# Display first few rows of the dataframe\n",
        "print(data.head())"
      ],
      "metadata": {
        "id": "LC3x1wbbFvAB",
        "outputId": "4d422e8d-9411-4b78-f4a3-6aacd86c6933",
        "colab": {
          "base_uri": "https://localhost:8080/"
        }
      },
      "execution_count": 11,
      "outputs": [
        {
          "output_type": "stream",
          "name": "stdout",
          "text": [
            "              Date  Open Price  High Price  Low Price  Close Price  \\\n",
            "0  24-January-2024     2909.85     2928.95    2871.05      2902.50   \n",
            "1  23-January-2024     3012.00     3012.10    2885.20      2897.25   \n",
            "2  20-January-2024     2932.95     3013.95    2890.20      2987.95   \n",
            "3  19-January-2024     2948.80     2949.95    2904.25      2915.95   \n",
            "4  18-January-2024     2979.00     2985.00    2888.00      2918.55   \n",
            "\n",
            "           WAP  No.of Shares  No. of Trades  Total Turnover (Rs.)  \\\n",
            "0  2897.613345        120363          10480           348765435.0   \n",
            "1  2954.381970        144412          12752           426648209.0   \n",
            "2  2946.462335        111112           9188           327387323.0   \n",
            "3  2928.198127         49968           4031           146316204.0   \n",
            "4  2923.950680         97243           7533           284333736.0   \n",
            "\n",
            "   Deliverable Quantity  % Deli. Qty to Traded Qty  Spread High-Low  \\\n",
            "0                 31483                      26.16            57.90   \n",
            "1                 47739                      33.06           126.90   \n",
            "2                 33866                      30.48           123.75   \n",
            "3                 13487                      26.99            45.70   \n",
            "4                 25011                      25.72            97.00   \n",
            "\n",
            "   Spread Close-Open  \n",
            "0              -7.35  \n",
            "1            -114.75  \n",
            "2              55.00  \n",
            "3             -32.85  \n",
            "4             -60.45  \n"
          ]
        }
      ]
    },
    {
      "cell_type": "code",
      "source": [
        "# Plot histogram\n",
        "data.rename(columns={'Low Price': 'Low_Price'}, inplace=True)\n",
        "plt.hist(data['Low_Price'], bins=20, color='skyblue', edgecolor='black')\n",
        "\n",
        "plt.xlabel('Low Price')\n",
        "plt.ylabel('Frequency')\n",
        "plt.title('Histogram of Low Price')\n",
        "\n",
        "plt.show()"
      ],
      "metadata": {
        "id": "V_py61DxGG-n",
        "outputId": "f730ccef-803c-4cea-f002-2db4dac8a364",
        "colab": {
          "base_uri": "https://localhost:8080/",
          "height": 472
        }
      },
      "execution_count": 12,
      "outputs": [
        {
          "output_type": "display_data",
          "data": {
            "text/plain": [
              "<Figure size 640x480 with 1 Axes>"
            ],
            "image/png": "[encoded data removed]"
          },
          "metadata": {}
        }
      ]
    },
    {
      "cell_type": "code",
      "source": [],
      "metadata": {
        "id": "9a88ZrDuiDQJ"
      },
      "execution_count": null,
      "outputs": []
    }
  ],
  "metadata": {
    "colab": {
      "provenance": [],
      "include_colab_link": true
    },
    "kernelspec": {
      "display_name": "Python 3",
      "name": "python3"
    }
  },
  "nbformat": 4,
  "nbformat_minor": 0
}